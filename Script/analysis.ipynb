{
 "cells": [
  {
   "cell_type": "markdown",
   "metadata": {},
   "source": [
    "# Construção gráfica para contagem de operações\n",
    "# Autor: Gabriela Dellamora Paim"
   ]
  },
  {
   "cell_type": "code",
   "execution_count": null,
   "metadata": {
    "vscode": {
     "languageId": "plaintext"
    }
   },
   "outputs": [],
   "source": [
    "import matplotlip.pyplot as plt"
   ]
  },
  {
   "cell_type": "code",
   "execution_count": null,
   "metadata": {
    "vscode": {
     "languageId": "plaintext"
    }
   },
   "outputs": [],
   "source": [
    "paths = [\n",
    "        # 'Tests\\case-example_OUTPUT.txt',\n",
    "        'Tests\\caseG50_OUTPUT.txt',\n",
    "        'Tests\\caseG100_OUTPUT.txt',\n",
    "        'Tests\\caseG200_OUTPUT.txt',\n",
    "        'Tests\\caseG500_OUTPUT.txt',\n",
    "        'Tests\\caseG750_OUTPUT.txt',\n",
    "        'Tests\\caseG1000_OUTPUT.txt',\n",
    "        'Tests\\caseG1500_OUTPUT.txt',\n",
    "        'Tests\\caseG2000_OUTPUT.txt'\n",
    "    ]\n",
    "for path in path:\n",
    "   with open(path, 'r') as file:\n",
    "   \n",
    "        file.write(f\"Operations: {op}\\n\\n\")\n",
    "        file.write(f\"Amount of Money Collected: {returns[0]}\\n\\n\")\n",
    "        file.write(f\"List of Money Collected: {returns[1]}\")"
   ]
  }
 ],
 "metadata": {
  "language_info": {
   "name": "python"
  }
 },
 "nbformat": 4,
 "nbformat_minor": 2
}
