{
 "cells": [
  {
   "cell_type": "code",
   "execution_count": 8,
   "metadata": {},
   "outputs": [],
   "source": [
    "import time\n",
    "import random\n",
    "from teste import symmetric_difference\n",
    "import matplotlib.pyplot as plt\n",
    "\n",
    "\n",
    "# Função para medir o tempo de execução do algoritmo para diferentes tamanhos de entrada\n",
    "def measure_time(n_values):\n",
    "    times = []\n",
    "\n",
    "    for n in n_values:\n",
    "        l1 = random.sample(range(1, 10000), n)\n",
    "        l2 = random.sample(range(1, 10000), n)\n",
    "\n",
    "        start_time = time.time()\n",
    "\n",
    "        symmetric_difference(sorted(l1), sorted(l2))\n",
    "        end_time = time.time()\n",
    "\n",
    "        execution_time = end_time - start_time\n",
    "        times.append(execution_time)\n",
    "\n",
    "    return times\n",
    "# Tamanho da lista\n",
    "list_size = 3000\n",
    "\n",
    "\n",
    "# Tamanhos de entrada\n",
    "n_values = [random.randint(list_size//2, list_size*2) for _ in range(list_size)]\n",
    "\n",
    "# Medindo o tempo de execução\n",
    "execution_times = measure_time(n_values)\n",
    "\n",
    "# Plotando o gráfico\n",
    "plt.plot(n_values, execution_times, marker='o')\n",
    "plt.title('Complexidade Temporal Normalizada O(n log n)')\n",
    "plt.xlabel('Tamanho da Entrada (n)')\n",
    "plt.ylabel('Tempo de Execução Normalizado')\n",
    "plt.grid(True)\n",
    "plt.show()"
   ]
  },
  {
   "cell_type": "code",
   "execution_count": null,
   "metadata": {},
   "outputs": [],
   "source": []
  }
 ],
 "metadata": {
  "kernelspec": {
   "display_name": "Python 3",
   "language": "python",
   "name": "python3"
  },
  "language_info": {
   "codemirror_mode": {
    "name": "ipython",
    "version": 3
   },
   "file_extension": ".py",
   "mimetype": "text/x-python",
   "name": "python",
   "nbconvert_exporter": "python",
   "pygments_lexer": "ipython3",
   "version": "3.10.7"
  }
 },
 "nbformat": 4,
 "nbformat_minor": 2
}
